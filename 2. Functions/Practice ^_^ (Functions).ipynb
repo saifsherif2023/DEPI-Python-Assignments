{
 "cells": [
  {
   "cell_type": "markdown",
   "metadata": {},
   "source": [
    "# Practice    \n",
    "# Enjoy^_^"
   ]
  },
  {
   "cell_type": "markdown",
   "metadata": {},
   "source": [
    "# Calculating Average of Numbers Using Functions"
   ]
  },
  {
   "cell_type": "code",
   "execution_count": null,
   "metadata": {},
   "outputs": [],
   "source": [
    "def average (numbers):\n",
    "    return sum(numbers)/len(numbers)\n",
    "\n",
    "numbers = [11, 5, 66, 50, 94, 33]\n",
    "print(\"The average of numbers =\",average(numbers))"
   ]
  },
  {
   "cell_type": "markdown",
   "metadata": {},
   "source": [
    "# Finding the Longest Word in a List"
   ]
  },
  {
   "cell_type": "code",
   "execution_count": null,
   "metadata": {},
   "outputs": [],
   "source": [
    "def longest_word(words):\n",
    "    longest = \"\"\n",
    "    \n",
    "    for word in words:\n",
    "        if len(word) > len(longest):\n",
    "            longest = word\n",
    "    return longest\n",
    "\n",
    "words = [\"football\", \"basketball\", \"volleyball\", \"tennis\"]\n",
    "print(\"The longest word in the list is\", longest_word(words))"
   ]
  },
  {
   "cell_type": "markdown",
   "metadata": {},
   "source": [
    "# Checking if a Number is Prime"
   ]
  },
  {
   "cell_type": "code",
   "execution_count": null,
   "metadata": {},
   "outputs": [],
   "source": [
    "def prime_number(number):\n",
    "    \n",
    "    if number < 2:\n",
    "        return f\"{number} is not a prime number\"\n",
    "    \n",
    "    for i in range(2, int(number**0.5) + 1):\n",
    "        if number % i == 0:\n",
    "            return f\"{number} is not a prime number\"\n",
    "    \n",
    "    return f\"{number} is a prime number\"\n",
    "\n",
    "number = int(input(\"Please enter a number: \"))\n",
    "print(prime_number(number))"
   ]
  },
  {
   "cell_type": "markdown",
   "metadata": {},
   "source": [
    "# Converting Temperature Units"
   ]
  },
  {
   "cell_type": "code",
   "execution_count": null,
   "metadata": {},
   "outputs": [],
   "source": [
    "def ctof(celsius):\n",
    "    return (celsius * 9/5) + 32\n",
    "\n",
    "def ftoc(fahrenheit):\n",
    "    return (fahrenheit - 32) * 5/9\n",
    "\n",
    "test = int(input(\"Please choose your conversion:\\n1) °C to °F\\n2) °F to °C\\n\"))\n",
    "\n",
    "if test == 1:\n",
    "    c = int(input(\"Please enter the temperature value in Celsius: \"))\n",
    "    print(f\"{c}°C = {ctof(c)}°F\")\n",
    "\n",
    "elif test == 2:\n",
    "    f = int(input(\"Please enter the temperature value in Fahrenheit: \"))\n",
    "    print(f\"{f}°F = {ftoc(f)}°C\")\n",
    "\n",
    "else:\n",
    "    print(\"Invalid input\")"
   ]
  },
  {
   "cell_type": "markdown",
   "metadata": {},
   "source": [
    "# Generating a List of Squares Using List Comprehension and Functions"
   ]
  },
  {
   "cell_type": "code",
   "execution_count": null,
   "metadata": {},
   "outputs": [],
   "source": [
    "def listofsquares(numbers):\n",
    "    return [x ** 2 for x in numbers]\n",
    "\n",
    "numbers = [1, 2, 3, 4, 5, 6, 7, 8, 9, 10]\n",
    "print(f\"List of squares of {numbers} : \", listofsquares(numbers))"
   ]
  },
  {
   "cell_type": "markdown",
   "metadata": {},
   "source": [
    "# Converting a List of Strings to Uppercase"
   ]
  },
  {
   "cell_type": "code",
   "execution_count": null,
   "metadata": {},
   "outputs": [],
   "source": [
    "def uppercase(words):\n",
    "    uppercased = []\n",
    "    \n",
    "    for word in words:\n",
    "        uppercased.append(word.upper())\n",
    "    return uppercased\n",
    "\n",
    "words = [\"Saif\", \"depi\", \"Machine Learning\", \"assignment\"]\n",
    "print(f\"{words} in uppercase:\", uppercase(words))"
   ]
  },
  {
   "cell_type": "markdown",
   "metadata": {},
   "source": [
    "# Calculating the Total Price Including Tax\n"
   ]
  },
  {
   "cell_type": "code",
   "execution_count": null,
   "metadata": {},
   "outputs": [],
   "source": [
    "def price_tax(prices, tax_percentage):\n",
    "    total = 0\n",
    "    for price in prices:\n",
    "        total+=price\n",
    "    total_inc_tax = total * (1 + tax_percentage)\n",
    "    return total_inc_tax\n",
    "\n",
    "prices = [600, 375, 50]\n",
    "tax_percentage = 0.14\n",
    "print(\"The total price inclucding tax =\", price_tax(prices, tax_percentage))"
   ]
  },
  {
   "cell_type": "markdown",
   "metadata": {},
   "source": [
    "# Finding the Minimum and Maximum Values in a List"
   ]
  },
  {
   "cell_type": "code",
   "execution_count": null,
   "metadata": {},
   "outputs": [],
   "source": [
    "def minandmax(numbers):\n",
    "    return min(numbers), max(numbers)\n",
    "\n",
    "numbers = [1, 2, 3, 4, 5, 6, 7, 8, 9, 10]\n",
    "minimum, maximum = minandmax(numbers)\n",
    "\n",
    "print(\"The minimum value in the list is :\", minimum)\n",
    "print(\"The maximum value in the list is :\", maximum)"
   ]
  },
  {
   "cell_type": "markdown",
   "metadata": {},
   "source": [
    "# Checking if a String is a Valid Email Address"
   ]
  },
  {
   "cell_type": "code",
   "execution_count": null,
   "metadata": {},
   "outputs": [],
   "source": [
    "def checkemail(email):\n",
    "    if email.count('@') != 1:\n",
    "        return \"Email Invalid\" \n",
    "    \n",
    "    username, domain = email.split('@')\n",
    "\n",
    "    if not username:\n",
    "        return \"Email Invalid\"\n",
    "    \n",
    "    if '.' in username:\n",
    "        return \"Email Invalid\"\n",
    "\n",
    "    if not domain:\n",
    "        return \"Email Invalid\"\n",
    "\n",
    "    if '.' not in domain:\n",
    "        return \"Email Invalid\"\n",
    "\n",
    "    return \"Email Valid\"\n",
    "\n",
    "email = input(\"Please enter your email: \")\n",
    "print(f\"{email} : {checkemail(email)}\")"
   ]
  },
  {
   "cell_type": "markdown",
   "metadata": {},
   "source": [
    "# Counting the Frequency of Each Character in a String"
   ]
  },
  {
   "cell_type": "code",
   "execution_count": null,
   "metadata": {},
   "outputs": [],
   "source": [
    "def frequency_counter(text):\n",
    "    frequency = {}\n",
    "    \n",
    "    for char in text:\n",
    "        if char in frequency:\n",
    "            frequency[char] += 1\n",
    "        else:\n",
    "            frequency[char] = 1\n",
    "\n",
    "    return frequency\n",
    "\n",
    "text = input(\"Please enter your text: \")\n",
    "print(\"Frequency of characters: \", frequency_counter(text))"
   ]
  }
 ],
 "metadata": {
  "kernelspec": {
   "display_name": "base",
   "language": "python",
   "name": "python3"
  },
  "language_info": {
   "codemirror_mode": {
    "name": "ipython",
    "version": 3
   },
   "file_extension": ".py",
   "mimetype": "text/x-python",
   "name": "python",
   "nbconvert_exporter": "python",
   "pygments_lexer": "ipython3",
   "version": "3.12.7"
  }
 },
 "nbformat": 4,
 "nbformat_minor": 4
}
