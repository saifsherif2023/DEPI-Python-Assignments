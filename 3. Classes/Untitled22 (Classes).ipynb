{
 "cells": [
  {
   "cell_type": "markdown",
   "metadata": {
    "id": "ztOSGe78z4NV"
   },
   "source": [
    "# Managing a Simple Inventory System"
   ]
  },
  {
   "cell_type": "code",
   "execution_count": null,
   "metadata": {
    "colab": {
     "base_uri": "https://localhost:8080/"
    },
    "id": "jmLTQpK7zvwO",
    "outputId": "f521ce1c-d588-4bcc-abc7-5ff407923660"
   },
   "outputs": [],
   "source": [
    "class Inventory:\n",
    "    def __init__(object, name, price, quantity):\n",
    "        object.name = name\n",
    "        object.price = price\n",
    "        object.quantity = quantity\n",
    "\n",
    "    def restocking(object, amount):\n",
    "        object.quantity += amount\n",
    "        print(f\"Restocked {object.name} successfully. Quantity in stock: {object.quantity}\")\n",
    "\n",
    "    def selling(object, amount):\n",
    "        if amount <= object.quantity:\n",
    "            object.quantity -= amount\n",
    "            print(f\"Sold {amount} {object.name}. Quantity of {object.name} left = {object.quantity}\")\n",
    "        else:\n",
    "            print(\"Not enough stock to sell.\")\n",
    "\n",
    "product1 = Inventory(\"Shorts\",100, 10)\n",
    "product2 = Inventory(\"T-Shirts\", 200, 20)\n",
    "product3 = Inventory(\"Hats\", 50, 5)\n",
    "\n",
    "product1.restocking(10)\n",
    "product1.selling(5)\n",
    "product1.selling(10)\n",
    "print()\n",
    "product2.restocking(20)\n",
    "product2.selling(20)\n",
    "product2.selling(5)\n",
    "print()\n",
    "product3.restocking(30)\n",
    "product3.selling(10)\n",
    "product3.selling(10)\n",
    "product3.selling(11)"
   ]
  },
  {
   "cell_type": "markdown",
   "metadata": {
    "id": "e3oNmsI2z8kj"
   },
   "source": [
    "# Simple Calculator Class"
   ]
  },
  {
   "cell_type": "code",
   "execution_count": null,
   "metadata": {
    "colab": {
     "base_uri": "https://localhost:8080/"
    },
    "id": "GrGS4ubm0AFD",
    "outputId": "75b9843f-0798-4aff-fa58-ebf86d73df18"
   },
   "outputs": [],
   "source": [
    "class Calculator:\n",
    "\n",
    "  def addition(object,x,y):\n",
    "    return x + y\n",
    "\n",
    "  def subtraction(object,x,y):\n",
    "    return x - y\n",
    "\n",
    "  def multiplication(object,x,y):\n",
    "    return x * y\n",
    "\n",
    "  def division(object,x,y):\n",
    "    if y == 0:\n",
    "      print(\"You can't divide by 0\")\n",
    "    else:\n",
    "      return x / y\n",
    "\n",
    "calculate = Calculator()\n",
    "print(calculate.addition(5,2))\n",
    "print(calculate.subtraction(5,2))\n",
    "print(calculate.multiplication(5,2))\n",
    "print(calculate.division(5,2))\n",
    "print(calculate.division(5,0))"
   ]
  },
  {
   "cell_type": "markdown",
   "metadata": {
    "id": "KLlB1ndI0E9z"
   },
   "source": [
    "# Creating a Student Management System\n"
   ]
  },
  {
   "cell_type": "code",
   "execution_count": null,
   "metadata": {
    "colab": {
     "base_uri": "https://localhost:8080/"
    },
    "id": "bHVBM10b0Gzc",
    "outputId": "753c7b0d-6d7f-44c2-d1ef-e5113b497570"
   },
   "outputs": [],
   "source": [
    "class StudentSystem:\n",
    "  def __init__(object,name,id,grade):\n",
    "    object.name = name\n",
    "    object.id = id\n",
    "    object.grade = grade\n",
    "\n",
    "  def display_info(object):\n",
    "    print(f\"Name: {object.name}, ID: {object.id}\")\n",
    "\n",
    "  def numberofcourses(object):\n",
    "    if object.grade >=85:\n",
    "      print(f\"{object.name} can register 4 courses\")\n",
    "    elif object.grade >=75:\n",
    "      print(f\"{object.name} can register 3 courses\")\n",
    "    elif object.grade >=65:\n",
    "      print(f\"{object.name} can register 2 courses\")\n",
    "    elif object.grade >=50:\n",
    "      print(f\"{object.name} can register 1 course\")\n",
    "    else:\n",
    "      print(f\"{object.name} can't register any new courses\")\n",
    "\n",
    "student1 = StudentSystem(\"Ahmed\",1,95)\n",
    "student2 = StudentSystem(\"Ali\",2,70)\n",
    "student3 = StudentSystem(\"Saif\",3,80)\n",
    "student4 = StudentSystem(\"Marwa\",4,45)\n",
    "student5 = StudentSystem(\"Nour\",5,66)\n",
    "student6 = StudentSystem(\"Farah\",6,45)\n",
    "\n",
    "student1.display_info()\n",
    "student2.display_info()\n",
    "student3.display_info()\n",
    "student4.display_info()\n",
    "student5.display_info()\n",
    "student6.display_info()\n",
    "print()\n",
    "student1.numberofcourses()\n",
    "student2.numberofcourses()\n",
    "student3.numberofcourses()\n",
    "student4.numberofcourses()\n",
    "student5.numberofcourses()\n",
    "student6.numberofcourses()"
   ]
  },
  {
   "cell_type": "markdown",
   "metadata": {
    "id": "Gp48XfCR0I_c"
   },
   "source": [
    "# Modeling a Bank Account\n"
   ]
  },
  {
   "cell_type": "code",
   "execution_count": null,
   "metadata": {
    "id": "vw1q3ooy0LO8"
   },
   "outputs": [],
   "source": []
  },
  {
   "cell_type": "markdown",
   "metadata": {
    "id": "-4--ZqEe0OQ8"
   },
   "source": [
    "# Modeling a Simple Library System\n"
   ]
  },
  {
   "cell_type": "code",
   "execution_count": null,
   "metadata": {
    "id": "v36U_UHD0POE"
   },
   "outputs": [],
   "source": []
  },
  {
   "cell_type": "markdown",
   "metadata": {
    "id": "eehFyGAs0RY8"
   },
   "source": [
    "# Simple Voting System"
   ]
  },
  {
   "cell_type": "code",
   "execution_count": null,
   "metadata": {
    "id": "SWD1UiMl0Syj"
   },
   "outputs": [],
   "source": []
  },
  {
   "cell_type": "markdown",
   "metadata": {
    "id": "Vnb0BYfc0VBM"
   },
   "source": [
    "# Simple Temperature Converter"
   ]
  },
  {
   "cell_type": "code",
   "execution_count": null,
   "metadata": {
    "id": "KjB3N91N0V1r"
   },
   "outputs": [],
   "source": []
  },
  {
   "cell_type": "markdown",
   "metadata": {
    "id": "MRua6w7D0X4E"
   },
   "source": [
    "# Modeling a Car Rental System\n"
   ]
  },
  {
   "cell_type": "code",
   "execution_count": null,
   "metadata": {
    "id": "WsStIvIy0Ztz"
   },
   "outputs": [],
   "source": []
  }
 ],
 "metadata": {
  "colab": {
   "provenance": []
  },
  "kernelspec": {
   "display_name": "Python 3",
   "name": "python3"
  },
  "language_info": {
   "name": "python"
  }
 },
 "nbformat": 4,
 "nbformat_minor": 0
}
