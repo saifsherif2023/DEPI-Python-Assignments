{
 "cells": [
  {
   "cell_type": "markdown",
   "metadata": {},
   "source": [
    "# Python OOP Session (Physical) (15/11/2024)"
   ]
  },
  {
   "cell_type": "markdown",
   "metadata": {},
   "source": [
    "- Classes : Blueprint for creating objects, Template for the object\n",
    "- Objects : Instance of a class\n",
    "- Attributes : Variables of a class\n",
    "- Functions : Methods in a class"
   ]
  },
  {
   "cell_type": "code",
   "execution_count": null,
   "metadata": {},
   "outputs": [
    {
     "name": "stdout",
     "output_type": "stream",
     "text": [
      "Name: Saif\n",
      "ID: 1\n",
      "Age: 21\n",
      "Study Hours: 5\n",
      "\n",
      "Name: Ali\n",
      "ID: 2\n",
      "Age: 20\n",
      "Study Hours: 4\n",
      "\n",
      "Name: Saif, ID: 1, Age: 21\n",
      "Name: Ali, ID: 2, Age: 20\n",
      "\n",
      "The time Saif takes to study is 5 hours.\n",
      "The time Ali takes to study is 4 hours.\n"
     ]
    }
   ],
   "source": [
    "class Student:\n",
    "    def __init__(object,name,id,age,time):\n",
    "        object.name = name\n",
    "        object.id = id\n",
    "        object.age = age\n",
    "        object.time = time\n",
    "\n",
    "    def display_info(object):\n",
    "        print(f\"Name: {object.name}, ID: {object.id}, Age: {object.age}\")\n",
    "\n",
    "    def study(object):\n",
    "        print(f\"The time {object.name} takes to study is {object.time} hours.\")\n",
    "        \n",
    "student1 = Student(\"Saif\",1,21,5,)\n",
    "student2 = Student(\"Ali\",2,20,4,)\n",
    "\n",
    "print(\"Name:\", student1.name)\n",
    "print(\"ID:\", student1.id)\n",
    "print(\"Age:\", student1.age)\n",
    "print(\"Study Hours:\", student1.time)\n",
    "print()\n",
    "print(\"Name:\", student2.name)\n",
    "print(\"ID:\", student2.id)\n",
    "print(\"Age:\", student2.age)\n",
    "print(\"Study Hours:\", student2.time)\n",
    "print()\n",
    "student1.display_info()\n",
    "student2.display_info()\n",
    "print()\n",
    "student1.study()\n",
    "student2.study()"
   ]
  },
  {
   "cell_type": "markdown",
   "metadata": {},
   "source": [
    "# OOP Concepts:\n",
    "\n",
    "APIE\n",
    "\n",
    "- A : Abstraction\n",
    "- P : Polymorphism\n",
    "- I : Inheritance\n",
    "- E : Encapsulation\n",
    "\n",
    "* In C++\n",
    "    - struct (Public)\n",
    "    - class (Private)\n",
    "\n",
    "1) Encapsulation:\n",
    "    - To secure code\n",
    "    - By using (get-set) functions\n",
    "\n",
    "2) Abstraction:\n",
    "    - (a) Logic\n",
    "    - (b) Implementation : How the code is setup\n",
    "\n",
    "3) Inheritance:\n",
    "    - To prevent recurrrecny\n",
    "    - class Child(class Parent)\n",
    "    - Child\n",
    "    - Class\n",
    "    - Sub Class\n",
    "    - Super Class\n",
    "\n",
    "4) Polymorphism:\n",
    "    - Override : Same Name/Parameter - Different  \n",
    "    - Overload : "
   ]
  }
 ],
 "metadata": {
  "kernelspec": {
   "display_name": "Python 3",
   "language": "python",
   "name": "python3"
  },
  "language_info": {
   "codemirror_mode": {
    "name": "ipython",
    "version": 3
   },
   "file_extension": ".py",
   "mimetype": "text/x-python",
   "name": "python",
   "nbconvert_exporter": "python",
   "pygments_lexer": "ipython3",
   "version": "3.12.6"
  }
 },
 "nbformat": 4,
 "nbformat_minor": 2
}
